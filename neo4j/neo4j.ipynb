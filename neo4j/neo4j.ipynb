{
 "cells": [
  {
   "cell_type": "code",
   "execution_count": null,
   "metadata": {},
   "outputs": [],
   "source": [
    "from neo4j import GraphDatabase\n",
    "\n",
    "# Verbindung zur Datenbank herstellen\n",
    "uri = \"neo4j://localhost:7687\"  # URI der Datenbank\n",
    "username = \"neo4j\"  # Benutzername\n",
    "password = \"password\"  # Passwort\n",
    "driver = GraphDatabase.driver(uri, auth=(username, password))\n",
    "\n",
    "# Beispielabfrage ausführen\n",
    "with driver.session() as session:\n",
    "    result = session.run(\"MATCH (n) RETURN\")\n",
    "    for record in result:\n",
    "        print(record)\n",
    "\n",
    "# Verbindung schließen\n",
    "driver.close()"
   ]
  }
 ],
 "metadata": {
  "kernelspec": {
   "display_name": "Python 3",
   "language": "python",
   "name": "python3"
  },
  "language_info": {
   "codemirror_mode": {
    "name": "ipython",
    "version": 3
   },
   "file_extension": ".py",
   "mimetype": "text/x-python",
   "name": "python",
   "nbconvert_exporter": "python",
   "pygments_lexer": "ipython3",
   "version": "3.12.2"
  }
 },
 "nbformat": 4,
 "nbformat_minor": 2
}
