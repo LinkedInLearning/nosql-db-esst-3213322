{
 "cells": [
  {
   "cell_type": "code",
   "execution_count": 1,
   "metadata": {},
   "outputs": [
    {
     "name": "stdout",
     "output_type": "stream",
     "text": [
      "<Record n=<Node element_id='4:4ec8c04e-126f-4f3e-8e99-598dd8bea47f:0' labels=frozenset() properties={}>>\n",
      "<Record n=<Node element_id='4:4ec8c04e-126f-4f3e-8e99-598dd8bea47f:1' labels=frozenset({'Person'}) properties={}>>\n",
      "<Record n=<Node element_id='4:4ec8c04e-126f-4f3e-8e99-598dd8bea47f:2' labels=frozenset({'Adresse'}) properties={}>>\n",
      "<Record n=<Node element_id='4:4ec8c04e-126f-4f3e-8e99-598dd8bea47f:3' labels=frozenset({'Person'}) properties={}>>\n",
      "<Record n=<Node element_id='4:4ec8c04e-126f-4f3e-8e99-598dd8bea47f:4' labels=frozenset({'Adresse'}) properties={}>>\n",
      "<Record n=<Node element_id='4:4ec8c04e-126f-4f3e-8e99-598dd8bea47f:5' labels=frozenset({'Person'}) properties={}>>\n",
      "<Record n=<Node element_id='4:4ec8c04e-126f-4f3e-8e99-598dd8bea47f:6' labels=frozenset({'Adresse'}) properties={}>>\n",
      "<Record n=<Node element_id='4:4ec8c04e-126f-4f3e-8e99-598dd8bea47f:7' labels=frozenset({'Person'}) properties={}>>\n",
      "<Record n=<Node element_id='4:4ec8c04e-126f-4f3e-8e99-598dd8bea47f:8' labels=frozenset({'Adresse'}) properties={}>>\n",
      "<Record n=<Node element_id='4:4ec8c04e-126f-4f3e-8e99-598dd8bea47f:9' labels=frozenset({'Person'}) properties={}>>\n"
     ]
    }
   ],
   "source": [
    "from neo4j import GraphDatabase\n",
    "\n",
    "# Verbindung zur Datenbank herstellen\n",
    "uri = \"neo4j://localhost:7687\"  # URI der Datenbank\n",
    "username = \"neo4j\"  # Benutzername\n",
    "password = \"password\"  # Passwort\n",
    "driver = GraphDatabase.driver(uri, auth=(username, password))\n",
    "\n",
    "# Beispielabfrage ausführen\n",
    "with driver.session() as session:\n",
    "    result = session.run(\"MATCH (n) RETURN n LIMIT 10\")\n",
    "    for record in result:\n",
    "        print(record)\n",
    "\n",
    "# Verbindung schließen\n",
    "driver.close()"
   ]
  }
 ],
 "metadata": {
  "kernelspec": {
   "display_name": "Python 3",
   "language": "python",
   "name": "python3"
  },
  "language_info": {
   "codemirror_mode": {
    "name": "ipython",
    "version": 3
   },
   "file_extension": ".py",
   "mimetype": "text/x-python",
   "name": "python",
   "nbconvert_exporter": "python",
   "pygments_lexer": "ipython3",
   "version": "3.12.2"
  }
 },
 "nbformat": 4,
 "nbformat_minor": 2
}
